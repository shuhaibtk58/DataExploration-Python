{
 "cells": [
  {
   "cell_type": "code",
   "execution_count": 1,
   "id": "1dc05a6b",
   "metadata": {},
   "outputs": [
    {
     "name": "stdout",
     "output_type": "stream",
     "text": [
      "10    s\n",
      "11    h\n",
      "12    u\n",
      "13    h\n",
      "14    a\n",
      "15    i\n",
      "16    b\n",
      "dtype: object\n"
     ]
    }
   ],
   "source": [
    "import numpy as np\n",
    "import pandas as pd\n",
    "\n",
    "data = np.array(['s', 'h', 'u', 'h', 'a', 'i', 'b'])\n",
    "\n",
    "# Define index for the series\n",
    "index = [10, 11, 12, 13, 14, 15, 16]\n",
    "\n",
    "# Pandas Series \n",
    "series = pd.Series(data, index=index)\n",
    "\n",
    "print(series)"
   ]
  },
  {
   "cell_type": "code",
   "execution_count": 2,
   "id": "2681758e",
   "metadata": {},
   "outputs": [
    {
     "name": "stdout",
     "output_type": "stream",
     "text": [
      "0    1992\n",
      "1    1996\n",
      "2    2000\n",
      "3    2004\n",
      "4    2008\n",
      "5    2012\n",
      "6    2016\n",
      "7    2020\n",
      "8    2024\n",
      "9    2028\n",
      "dtype: int64\n"
     ]
    }
   ],
   "source": [
    "leap_years = [year for year in range(1990, 2030) if (year % 4 == 0 and year % 100 != 0) or (year % 400 == 0)]\n",
    "\n",
    "series = pd.Series(leap_years)\n",
    "\n",
    "print(series)"
   ]
  },
  {
   "cell_type": "code",
   "execution_count": 3,
   "id": "ba8630be",
   "metadata": {},
   "outputs": [
    {
     "name": "stdout",
     "output_type": "stream",
     "text": [
      "Andhra Pradesh             Amaravati\n",
      "Karnataka                  Bengaluru\n",
      "Tamil Nadu                   Chennai\n",
      "Maharashtra                   Mumbai\n",
      "Delhi                      New Delhi\n",
      "Kerala            Thiruvananthapuram\n",
      "Rajasthan                     Jaipur\n",
      "dtype: object\n"
     ]
    }
   ],
   "source": [
    "state_capitals = {\n",
    "    \"Andhra Pradesh\": \"Amaravati\",\n",
    "    \"Karnataka\": \"Bengaluru\",\n",
    "    \"Tamil Nadu\": \"Chennai\",\n",
    "    \"Maharashtra\": \"Mumbai\",\n",
    "    \"Delhi\": \"New Delhi\",\n",
    "    \"Kerala\": \"Thiruvananthapuram\",\n",
    "    \"Rajasthan\": \"Jaipur\"\n",
    "}\n",
    "\n",
    "\n",
    "states_series = pd.Series(state_capitals)\n",
    "\n",
    "print(states_series)"
   ]
  },
  {
   "cell_type": "code",
   "execution_count": 4,
   "id": "99c7eecf",
   "metadata": {},
   "outputs": [
    {
     "name": "stdout",
     "output_type": "stream",
     "text": [
      "11    yet to come\n",
      "22    yet to come\n",
      "33    yet to come\n",
      "44    yet to come\n",
      "55    yet to come\n",
      "66    yet to come\n",
      "77    yet to come\n",
      "dtype: object\n"
     ]
    }
   ],
   "source": [
    "constant_value = \"yet to come\"\n",
    "\n",
    "indices = [11 * i for i in range(1, 8)]\n",
    "series = pd.Series([constant_value] * 7, index=indices)\n",
    "\n",
    "print(series)"
   ]
  },
  {
   "cell_type": "code",
   "execution_count": 5,
   "id": "677d69c9",
   "metadata": {},
   "outputs": [
    {
     "name": "stdout",
     "output_type": "stream",
     "text": [
      "0       4\n",
      "1       8\n",
      "2      12\n",
      "3      16\n",
      "4      20\n",
      "5      24\n",
      "6      28\n",
      "7      32\n",
      "8      36\n",
      "9      40\n",
      "10     44\n",
      "11     48\n",
      "12     52\n",
      "13     56\n",
      "14     60\n",
      "15     64\n",
      "16     68\n",
      "17     72\n",
      "18     76\n",
      "19     80\n",
      "20     84\n",
      "21     88\n",
      "22     92\n",
      "23     96\n",
      "24    100\n",
      "dtype: int64\n"
     ]
    }
   ],
   "source": [
    "mul_of_4 = [i for i in range(4, 101, 4)]\n",
    "\n",
    "mul_of_4_series = pd.Series(mul_of_4)\n",
    "\n",
    "print(mul_of_4_series)"
   ]
  },
  {
   "cell_type": "code",
   "execution_count": 6,
   "id": "bef8432f",
   "metadata": {},
   "outputs": [
    {
     "name": "stdout",
     "output_type": "stream",
     "text": [
      "   English  Hindi  Math  Total  Percentage\n",
      "0       93     87    78    258   86.000000\n",
      "1       88     90    84    262   87.333333\n",
      "2       96     78    92    266   88.666667\n",
      "3       85     94    90    269   89.666667\n",
      "4       89     86    95    270   90.000000\n"
     ]
    }
   ],
   "source": [
    "marks = {\n",
    "    'English': [93, 88, 96, 85, 89],\n",
    "    'Hindi': [87, 90, 78, 94, 86],\n",
    "    'Math': [78, 84, 92, 90, 95]\n",
    "}\n",
    "\n",
    "df = pd.DataFrame(marks)\n",
    "\n",
    "df['Total'] = df.sum(axis=1)\n",
    "\n",
    "df['Percentage'] = (df['Total'] / 300) * 100\n",
    "\n",
    "print(df)"
   ]
  },
  {
   "cell_type": "code",
   "execution_count": 7,
   "id": "a4315b73",
   "metadata": {},
   "outputs": [
    {
     "name": "stdout",
     "output_type": "stream",
     "text": [
      "1     600\n",
      "2     900\n",
      "3    1200\n",
      "4    1500\n",
      "5    1800\n",
      "6    2100\n",
      "7    2400\n",
      "8    2700\n",
      "9    3000\n",
      "dtype: int64\n"
     ]
    }
   ],
   "source": [
    "obj = pd.Series([300, 600, 900, 1200, 1500, 1800, 2100, 2400, 2700, 3000])\n",
    "\n",
    "selected_obj = obj[obj > 500]\n",
    "\n",
    "print(selected_obj)"
   ]
  },
  {
   "cell_type": "code",
   "execution_count": 8,
   "id": "9c31b20e",
   "metadata": {},
   "outputs": [
    {
     "name": "stdout",
     "output_type": "stream",
     "text": [
      "Chennai      0.064706\n",
      "Bengaluru    0.054545\n",
      "Hyderabad    0.085294\n",
      "Kochi        0.226087\n",
      "dtype: float64\n"
     ]
    }
   ],
   "source": [
    "pop = {\n",
    "    'Chennai': 8500000,\n",
    "    'Bengaluru': 11000000,\n",
    "    'Hyderabad': 6800000,\n",
    "    'Kochi': 2300000\n",
    "}\n",
    "\n",
    "pop_series = pd.Series(pop, name='Population')\n",
    "\n",
    "income = {\n",
    "    'Chennai': 550000,\n",
    "    'Bengaluru': 600000,\n",
    "    'Hyderabad': 580000,\n",
    "    'Kochi': 520000\n",
    "}\n",
    "\n",
    "income_series = pd.Series(income, name='Income')\n",
    "\n",
    "income_per_capita = income_series / pop_series\n",
    "\n",
    "print(income_per_capita)\n"
   ]
  },
  {
   "cell_type": "code",
   "execution_count": 9,
   "id": "d3f625df",
   "metadata": {},
   "outputs": [],
   "source": [
    "data = {\n",
    "    'States': ['Tamil Nadu', 'Karnataka', 'Kerala', 'Andhra Pradesh', 'Telangana'],\n",
    "    'Books': [1200, 1500, 1300, 1100, 1400],\n",
    "    'Sweaters': [1800, 1200, 1400, 2000, 1600],\n",
    "    'Socks': [1600, 1800, 1200, 1500, 1400],\n",
    "    'Stationaries': [1100, 1700, 1400, 1600, 1300],\n",
    "    'Medicines': [2000, 1600, 1500, 1800, 1700]\n",
    "}\n",
    "\n",
    "df = pd.DataFrame(data)"
   ]
  },
  {
   "cell_type": "code",
   "execution_count": 10,
   "id": "85ac5bcf",
   "metadata": {
    "scrolled": true
   },
   "outputs": [
    {
     "data": {
      "text/html": [
       "<div>\n",
       "<style scoped>\n",
       "    .dataframe tbody tr th:only-of-type {\n",
       "        vertical-align: middle;\n",
       "    }\n",
       "\n",
       "    .dataframe tbody tr th {\n",
       "        vertical-align: top;\n",
       "    }\n",
       "\n",
       "    .dataframe thead th {\n",
       "        text-align: right;\n",
       "    }\n",
       "</style>\n",
       "<table border=\"1\" class=\"dataframe\">\n",
       "  <thead>\n",
       "    <tr style=\"text-align: right;\">\n",
       "      <th></th>\n",
       "      <th>Sweaters</th>\n",
       "      <th>Medicines</th>\n",
       "    </tr>\n",
       "  </thead>\n",
       "  <tbody>\n",
       "    <tr>\n",
       "      <th>0</th>\n",
       "      <td>1800</td>\n",
       "      <td>2000</td>\n",
       "    </tr>\n",
       "    <tr>\n",
       "      <th>1</th>\n",
       "      <td>1200</td>\n",
       "      <td>1600</td>\n",
       "    </tr>\n",
       "    <tr>\n",
       "      <th>2</th>\n",
       "      <td>1400</td>\n",
       "      <td>1500</td>\n",
       "    </tr>\n",
       "    <tr>\n",
       "      <th>3</th>\n",
       "      <td>2000</td>\n",
       "      <td>1800</td>\n",
       "    </tr>\n",
       "    <tr>\n",
       "      <th>4</th>\n",
       "      <td>1600</td>\n",
       "      <td>1700</td>\n",
       "    </tr>\n",
       "  </tbody>\n",
       "</table>\n",
       "</div>"
      ],
      "text/plain": [
       "   Sweaters  Medicines\n",
       "0      1800       2000\n",
       "1      1200       1600\n",
       "2      1400       1500\n",
       "3      2000       1800\n",
       "4      1600       1700"
      ]
     },
     "execution_count": 10,
     "metadata": {},
     "output_type": "execute_result"
    }
   ],
   "source": [
    "df[['Sweaters', 'Medicines']]"
   ]
  },
  {
   "cell_type": "code",
   "execution_count": 11,
   "id": "d13321f0",
   "metadata": {},
   "outputs": [
    {
     "data": {
      "text/html": [
       "<div>\n",
       "<style scoped>\n",
       "    .dataframe tbody tr th:only-of-type {\n",
       "        vertical-align: middle;\n",
       "    }\n",
       "\n",
       "    .dataframe tbody tr th {\n",
       "        vertical-align: top;\n",
       "    }\n",
       "\n",
       "    .dataframe thead th {\n",
       "        text-align: right;\n",
       "    }\n",
       "</style>\n",
       "<table border=\"1\" class=\"dataframe\">\n",
       "  <thead>\n",
       "    <tr style=\"text-align: right;\">\n",
       "      <th></th>\n",
       "      <th>Books</th>\n",
       "      <th>Sweaters</th>\n",
       "      <th>Socks</th>\n",
       "    </tr>\n",
       "  </thead>\n",
       "  <tbody>\n",
       "    <tr>\n",
       "      <th>0</th>\n",
       "      <td>1200</td>\n",
       "      <td>1800</td>\n",
       "      <td>1600</td>\n",
       "    </tr>\n",
       "    <tr>\n",
       "      <th>1</th>\n",
       "      <td>1500</td>\n",
       "      <td>1200</td>\n",
       "      <td>1800</td>\n",
       "    </tr>\n",
       "    <tr>\n",
       "      <th>2</th>\n",
       "      <td>1300</td>\n",
       "      <td>1400</td>\n",
       "      <td>1200</td>\n",
       "    </tr>\n",
       "    <tr>\n",
       "      <th>3</th>\n",
       "      <td>1100</td>\n",
       "      <td>2000</td>\n",
       "      <td>1500</td>\n",
       "    </tr>\n",
       "    <tr>\n",
       "      <th>4</th>\n",
       "      <td>1400</td>\n",
       "      <td>1600</td>\n",
       "      <td>1400</td>\n",
       "    </tr>\n",
       "  </tbody>\n",
       "</table>\n",
       "</div>"
      ],
      "text/plain": [
       "   Books  Sweaters  Socks\n",
       "0   1200      1800   1600\n",
       "1   1500      1200   1800\n",
       "2   1300      1400   1200\n",
       "3   1100      2000   1500\n",
       "4   1400      1600   1400"
      ]
     },
     "execution_count": 11,
     "metadata": {},
     "output_type": "execute_result"
    }
   ],
   "source": [
    "df.loc[:, 'Books':'Socks']"
   ]
  },
  {
   "cell_type": "code",
   "execution_count": 12,
   "id": "49064c6f",
   "metadata": {
    "scrolled": true
   },
   "outputs": [
    {
     "data": {
      "text/html": [
       "<div>\n",
       "<style scoped>\n",
       "    .dataframe tbody tr th:only-of-type {\n",
       "        vertical-align: middle;\n",
       "    }\n",
       "\n",
       "    .dataframe tbody tr th {\n",
       "        vertical-align: top;\n",
       "    }\n",
       "\n",
       "    .dataframe thead th {\n",
       "        text-align: right;\n",
       "    }\n",
       "</style>\n",
       "<table border=\"1\" class=\"dataframe\">\n",
       "  <thead>\n",
       "    <tr style=\"text-align: right;\">\n",
       "      <th></th>\n",
       "      <th>States</th>\n",
       "      <th>Books</th>\n",
       "      <th>Sweaters</th>\n",
       "      <th>Socks</th>\n",
       "      <th>Stationaries</th>\n",
       "      <th>Medicines</th>\n",
       "    </tr>\n",
       "  </thead>\n",
       "  <tbody>\n",
       "    <tr>\n",
       "      <th>0</th>\n",
       "      <td>Tamil Nadu</td>\n",
       "      <td>1200</td>\n",
       "      <td>1800</td>\n",
       "      <td>1600</td>\n",
       "      <td>1100</td>\n",
       "      <td>2000</td>\n",
       "    </tr>\n",
       "    <tr>\n",
       "      <th>1</th>\n",
       "      <td>Karnataka</td>\n",
       "      <td>1500</td>\n",
       "      <td>1200</td>\n",
       "      <td>1800</td>\n",
       "      <td>1700</td>\n",
       "      <td>1600</td>\n",
       "    </tr>\n",
       "  </tbody>\n",
       "</table>\n",
       "</div>"
      ],
      "text/plain": [
       "       States  Books  Sweaters  Socks  Stationaries  Medicines\n",
       "0  Tamil Nadu   1200      1800   1600          1100       2000\n",
       "1   Karnataka   1500      1200   1800          1700       1600"
      ]
     },
     "execution_count": 12,
     "metadata": {},
     "output_type": "execute_result"
    }
   ],
   "source": [
    "df.head(2)"
   ]
  },
  {
   "cell_type": "code",
   "execution_count": 13,
   "id": "30fb70a7",
   "metadata": {},
   "outputs": [
    {
     "data": {
      "image/png": "[encoded data removed]",
      "text/plain": [
       "<Figure size 640x480 with 1 Axes>"
      ]
     },
     "metadata": {},
     "output_type": "display_data"
    }
   ],
   "source": [
    "import matplotlib.pyplot as plt\n",
    "\n",
    "categories = ['Snacks', 'Milk', 'Fruits', 'Vegetables', 'Flour']\n",
    "values = [7200, 8500, 9200, 7500, 8800]\n",
    "\n",
    "\n",
    "plt.bar(categories, values)\n",
    "plt.title('ABC Company Production in 2022')\n",
    "plt.xlabel('Categories')\n",
    "plt.ylabel('Production Value')\n",
    "\n",
    "plt.show()"
   ]
  },
  {
   "cell_type": "code",
   "execution_count": 14,
   "id": "404136d6",
   "metadata": {},
   "outputs": [
    {
     "data": {
      "image/png": "[encoded data removed]",
      "text/plain": [
       "<Figure size 640x480 with 1 Axes>"
      ]
     },
     "metadata": {},
     "output_type": "display_data"
    }
   ],
   "source": [
    "import matplotlib.pyplot as plt\n",
    "\n",
    "# Sample data for tomato prices over four months\n",
    "months = ['January', 'February', 'March', 'April']\n",
    "prices = [2.5, 3.0, 2.7, 2.8]\n",
    "\n",
    "# Create a line plot\n",
    "plt.plot(months, prices, marker='o', linestyle='-')\n",
    "\n",
    "# Customize the plot\n",
    "plt.title('Tomato Price Fluctuations Over Four Months')\n",
    "plt.xlabel('Month')\n",
    "plt.ylabel('Price (in USD)')\n",
    "\n",
    "# Display the plot\n",
    "plt.grid(True)\n",
    "plt.show()\n"
   ]
  },
  {
   "cell_type": "code",
   "execution_count": 15,
   "id": "f0ad5094",
   "metadata": {
    "scrolled": true
   },
   "outputs": [
    {
     "data": {
      "image/png": "[encoded data removed]",
      "text/plain": [
       "<Figure size 1000x400 with 2 Axes>"
      ]
     },
     "metadata": {},
     "output_type": "display_data"
    }
   ],
   "source": [
    "import pandas as pd\n",
    "import matplotlib.pyplot as plt\n",
    "\n",
    "# Generate Fibonacci numbers in a Pandas Series\n",
    "def generate_fibonacci_series(n):\n",
    "    fibonacci = [0, 1]\n",
    "    while len(fibonacci) < n:\n",
    "        next_fib = fibonacci[-1] + fibonacci[-2]\n",
    "        fibonacci.append(next_fib)\n",
    "    return pd.Series(fibonacci)\n",
    "\n",
    "# Create a Pandas Series with Fibonacci numbers up to 50\n",
    "fibonacci_series = generate_fibonacci_series(51)\n",
    "\n",
    "# Create various charts (e.g., line plot, bar plot, histogram, etc.) with the data\n",
    "plt.figure(figsize=(10, 4))\n",
    "plt.subplot(121)\n",
    "plt.plot(fibonacci_series)\n",
    "plt.title('Line Plot of Fibonacci Numbers')\n",
    "\n",
    "plt.subplot(122)\n",
    "plt.bar(range(len(fibonacci_series)), fibonacci_series)\n",
    "plt.title('Bar Plot of Fibonacci Numbers')\n",
    "\n",
    "plt.tight_layout()\n",
    "plt.show()"
   ]
  },
  {
   "cell_type": "code",
   "execution_count": 19,
   "id": "27bb26e4",
   "metadata": {},
   "outputs": [
    {
     "data": {
      "image/png": "[encoded data removed]",
      "text/plain": [
       "<Figure size 640x480 with 1 Axes>"
      ]
     },
     "metadata": {},
     "output_type": "display_data"
    }
   ],
   "source": [
    "import numpy as np\n",
    "import matplotlib.pyplot as plt\n",
    "\n",
    "arrayA = np.arange(1, 30, 1)\n",
    "arrayB = np.arange(1, 30, 1)\n",
    "\n",
    "# Create a scatter plot to visualize the relationship\n",
    "plt.scatter(arrayA, arrayB, label='Scatter Plot', color='blue')\n",
    "\n",
    "# Customize the plot\n",
    "plt.title('Scatter Plot of arrayA vs. arrayB')\n",
    "plt.xlabel('arrayA')\n",
    "plt.ylabel('arrayB')\n",
    "plt.grid(True)\n",
    "plt.legend()\n",
    "\n",
    "# Display the plot\n",
    "plt.show()\n"
   ]
  },
  {
   "cell_type": "code",
   "execution_count": null,
   "id": "b38266ea",
   "metadata": {},
   "outputs": [],
   "source": []
  }
 ],
 "metadata": {
  "kernelspec": {
   "display_name": "Python 3 (ipykernel)",
   "language": "python",
   "name": "python3"
  },
  "language_info": {
   "codemirror_mode": {
    "name": "ipython",
    "version": 3
   },
   "file_extension": ".py",
   "mimetype": "text/x-python",
   "name": "python",
   "nbconvert_exporter": "python",
   "pygments_lexer": "ipython3",
   "version": "3.11.3"
  }
 },
 "nbformat": 4,
 "nbformat_minor": 5
}
